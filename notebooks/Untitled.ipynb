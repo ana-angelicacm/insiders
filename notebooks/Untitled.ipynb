{
 "cells": [
  {
   "cell_type": "markdown",
   "id": "61dc787e",
   "metadata": {},
   "source": [
    "# IDENTIFICAÇÃO DE CLIENTES DE ALTO VALOR PARA UM PROGRAMA DE FIDELIZAÇÃO"
   ]
  },
  {
   "cell_type": "markdown",
   "id": "608a90a0",
   "metadata": {
    "heading_collapsed": true
   },
   "source": [
    "## <font color = \"#C71585\">PROBLEMA</font>"
   ]
  },
  {
   "cell_type": "markdown",
   "id": "acd290b2",
   "metadata": {
    "hidden": true
   },
   "source": [
    "A empresa All in One Place é uma empresa Outlet Multimarcas, ou seja, ela comercializa produtos de segunda linha de várias marcas a um preço menor, através de um e-commerce. \n",
    "\n",
    "Em pouco mais de 1 anos de operação, o time de marketing percebeu que alguns clientes da sua base compram produtos mais caros, com alta frequência e acabam contribuindo com uma parcela significativa do faturamento da empresa. Baseado nessa percepção, o time de marketing vai lançar um programa de fidelidade para os melhores clientes da base, chamado *Insiders*. Mas o time não tem um conhecimento avançado em análise de dados para eleger os participantes do programa. Por esse motivo, o time de marketing requisitou ao time de dados uma seleção de clientes elegíveis ao programa, usando técnicas avançadas de manipulação de dados.\n",
    "\n",
    "A empresa All In One Place precisa determinar quem são os clientes elegíveis para participar do *Insiders*. Em posse dessa lista, o time de Marketing fará uma sequência de ações personalizadas e exclusivas ao grupo, de modo a aumentar o faturamento e a frequência de compra.\n",
    "\n",
    "Como resultado para esse projeto, é esperado que seja entregue uma lista de pessoas elegíveis a participar do programa *Insiders*, junto com um relatório respondendo às seguintes perguntas:\n",
    "\n",
    "1. Quem são as pessoas elegíveis para participar do programa de *Insiders*?\n",
    "2. Quantos clientes farão parte do grupo?\n",
    "3. Quais as principais características desses clientes?\n",
    "4. Qual a porcentagem de contribuição do faturamento vinda do *Insiders*?\n",
    "5. Qual a expectativa de faturamento desse grupo para os próximos meses?\n",
    "6. Quais as condições para uma pessoa ser elegível ao *Insiders*?\n",
    "7. Quais as condições para uma pessoa ser removida do *Insiders*?\n",
    "8. Qual a garantia que o programa *Insiders* é melhor que o restante da base?\n",
    "9. Quais ações o time de marketing pode realizar para aumentar o faturamento?"
   ]
  },
  {
   "cell_type": "markdown",
   "id": "9822b010",
   "metadata": {},
   "source": [
    "## <font color = \"#C71585\">PLANEJAMENTO DA SOLUÇÃO</font>"
   ]
  },
  {
   "cell_type": "markdown",
   "id": "7af07018",
   "metadata": {},
   "source": [
    "***Entrada:***\n",
    "\n",
    "Selecionar os mais valiosos clientes para formar o programa de fidelidade *Insiders*, tendo como base um conjunto de dados com as vendas de produtos durante 1 ano (Nov 2015 to Dez 2017)."
   ]
  },
  {
   "cell_type": "markdown",
   "id": "8a99cb11",
   "metadata": {},
   "source": [
    "***Saída:***\n",
    "1. A indicação de pessoas para fazer parte do programa de fidelidade Insiders;\n",
    "2. Relatório com as respostas para as seguintes perguntas:\n",
    "    - Quem são as pessoas elegíveis para participar do programa de Insiders?\n",
    "    - Quantos clientes farão parte do grupo?\n",
    "    - Quais as principais características desses clientes?\n",
    "    - Qual a porcentagem de contribuição do faturamento, vinda do Insiders?\n",
    "    - Qual a expectativa de faturamento desse grupo para os próximos meses?\n",
    "    - Quais as condições para uma pessoa ser elegível ao Insiders?\n",
    "    - Quais as condições para uma pessoa ser removida do Insiders?\n",
    "    - Qual a garantia que o programa Insiders é melhor que o restante da base?\n",
    "    - Quais ações o time de marketing pode realizar para aumentar o faturamento?"
   ]
  },
  {
   "cell_type": "markdown",
   "id": "bfdfaac6",
   "metadata": {},
   "source": [
    "***Tarefas:***\n",
    "1. Quem são as pessoas elegíveis para participar do programa de Insiders?\n",
    "    - O que é ser elegível? \n",
    "    - O que é um cliente valioso para a empresa?\n",
    "        - Faturamento:\n",
    "            - Alto Ticket Médio;\n",
    "            - Alto LTV;\n",
    "            - Baixa Recência ou Alta Frequência (tempo entre as compras);\n",
    "            - Alto Basket Size (quantidade média de produtos comprados);\n",
    "            - Baixa probabilidade de Churn;\n",
    "            - Previsão alta de LTV;\n",
    "            - Alta propensão de compra.              \n",
    "        - Custo:\n",
    "            - Baixo número de devoluções.              \n",
    "        - Experiência:  \n",
    "            - Média alta de avaliações.\n",
    "\n",
    "\n",
    "2. Quantos clientes farão parte do grupo?\n",
    "    - Número de clientes;\n",
    "    - % em relação ao total de clientes.\n",
    "    \n",
    "    \n",
    "3. Quais as principais características desses clientes?\n",
    "    - Escrever os principais atributos dos clientes:\n",
    "        - Idade;\n",
    "        - País;\n",
    "        - Salário.      \n",
    "    - Escrever os principais comportamentos de compra dos clientes (métricas de negócio).\n",
    "\n",
    "\n",
    "4. Qual a porcentagem de contribuição do faturamento vinda do Insiders?\n",
    "    - Calcular o faturamento total da empresa durante o ano;\n",
    "    - Calcular o faturamento (%) apenas do cluster Insiders.\n",
    "    \n",
    "    \n",
    "5. Qual a expectativa de faturamento desse grupo para os próximos meses?\n",
    "    - Cálculo do LTV do grupo Insiders;\n",
    "    - Séries Temporais (ARMA, ARIMA, HoltWinter, etc).\n",
    "    \n",
    "    \n",
    "6. Quais as condições para uma pessoa ser elegível ao Insiders?\n",
    "    - Qual o período de avaliação?\n",
    "    - O desempenho do cliente está próximo da média do cluster Insiders.\n",
    "    \n",
    "        \n",
    "7. Quais as condições para uma pessoa ser removida do Insiders?\n",
    "    - O desempenho do cliente não está mais próximo da média do cluster Insiders.\n",
    "    \n",
    "        \n",
    "8. Qual a garantia que o programa Insiders é melhor que o restante da base?\n",
    "    - Teste de Hipóteses;\n",
    "    - Teste A/B.\n",
    "    \n",
    "        \n",
    "9. Quais ações o time de marketing pode realizar para aumentar o faturamento?\n",
    "    - Descontos;\n",
    "    - Preferências de escolha;\n",
    "    - Produtos exclusivos."
   ]
  },
  {
   "cell_type": "code",
   "execution_count": null,
   "id": "ac3bdfa9",
   "metadata": {},
   "outputs": [],
   "source": []
  },
  {
   "cell_type": "code",
   "execution_count": null,
   "id": "7d265c06",
   "metadata": {},
   "outputs": [],
   "source": []
  },
  {
   "cell_type": "code",
   "execution_count": null,
   "id": "04a313d3",
   "metadata": {},
   "outputs": [],
   "source": []
  },
  {
   "cell_type": "code",
   "execution_count": null,
   "id": "cc99d779",
   "metadata": {},
   "outputs": [],
   "source": []
  }
 ],
 "metadata": {
  "kernelspec": {
   "display_name": "Python 3 (ipykernel)",
   "language": "python",
   "name": "python3"
  },
  "language_info": {
   "codemirror_mode": {
    "name": "ipython",
    "version": 3
   },
   "file_extension": ".py",
   "mimetype": "text/x-python",
   "name": "python",
   "nbconvert_exporter": "python",
   "pygments_lexer": "ipython3",
   "version": "3.10.5"
  }
 },
 "nbformat": 4,
 "nbformat_minor": 5
}
